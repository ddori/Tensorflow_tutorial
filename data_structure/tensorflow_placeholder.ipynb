{
  "nbformat": 4,
  "nbformat_minor": 0,
  "metadata": {
    "colab": {
      "name": "tensorflow_placeholder.ipynb",
      "version": "0.3.2",
      "provenance": [],
      "include_colab_link": true
    },
    "kernelspec": {
      "name": "python3",
      "display_name": "Python 3"
    }
  },
  "cells": [
    {
      "cell_type": "markdown",
      "metadata": {
        "id": "view-in-github",
        "colab_type": "text"
      },
      "source": [
        "<a href=\"https://colab.research.google.com/github/ddori/Tensorflow_tutorial/blob/master/tensorflow_placeholder.ipynb\" target=\"_parent\"><img src=\"https://colab.research.google.com/assets/colab-badge.svg\" alt=\"Open In Colab\"/></a>"
      ]
    },
    {
      "metadata": {
        "id": "k9tfCVxOecDB",
        "colab_type": "code",
        "colab": {}
      },
      "cell_type": "code",
      "source": [
        "실행시 데이터를 제공하는 방법으로, 실제 deep-learning 모델 구축에 가장 많이 쓰임. \n",
        "sess.run 에서 feed_dict에 dictionary 형식으로 value를 넣는다 . 이를 feeding 이라 부름"
      ],
      "execution_count": 0,
      "outputs": []
    },
    {
      "metadata": {
        "id": "Q98hVlsierPe",
        "colab_type": "code",
        "colab": {}
      },
      "cell_type": "code",
      "source": [
        "import tensorflow as tf"
      ],
      "execution_count": 0,
      "outputs": []
    },
    {
      "metadata": {
        "id": "nPRCngZFezou",
        "colab_type": "code",
        "outputId": "af5af7eb-a001-4f6b-bf45-382293ba6ee3",
        "colab": {
          "base_uri": "https://localhost:8080/",
          "height": 34
        }
      },
      "cell_type": "code",
      "source": [
        "#기본 placeholder 생성 후 , 곱\n",
        "p_holder1 = tf.placeholder('float')\n",
        "p_holder2 = tf.placeholder('float')\n",
        "\n",
        "ret = tf.multiply(p_holder1,p_holder2)\n",
        "\n",
        "sess = tf.Session()\n",
        "print(sess.run(ret, feed_dict = {p_holder1 : 3, p_holder2: 5}))"
      ],
      "execution_count": 0,
      "outputs": [
        {
          "output_type": "stream",
          "text": [
            "15.0\n"
          ],
          "name": "stdout"
        }
      ]
    },
    {
      "metadata": {
        "id": "U8EcIRwUe_Oa",
        "colab_type": "code",
        "outputId": "6c308858-e2ef-475f-c601-18167086cb6f",
        "colab": {
          "base_uri": "https://localhost:8080/",
          "height": 34
        }
      },
      "cell_type": "code",
      "source": [
        "p_holder1 = tf.placeholder(dtype = tf.float32)\n",
        "p_holder2 = tf.placeholder(dtype = tf.float32)\n",
        "p_holder3 = tf.placeholder(dtype = tf.float32)\n",
        "\n",
        "val1 = 5\n",
        "val2 = 10\n",
        "val3 = 3\n",
        "\n",
        "#다음과 같이도 사용 가능\n",
        "ret_val = p_holder1 * p_holder2 * p_holder3\n",
        "\n",
        "feed_dict = {p_holder1: val1, p_holder2: val2, p_holder3: val2}\n",
        "result = sess.run(ret_val, feed_dict=feed_dict)\n",
        "\n",
        "print(result)"
      ],
      "execution_count": 0,
      "outputs": [
        {
          "output_type": "stream",
          "text": [
            "500.0\n"
          ],
          "name": "stdout"
        }
      ]
    },
    {
      "metadata": {
        "id": "jQli4S7DfsdU",
        "colab_type": "code",
        "outputId": "7350934b-0a64-4a6c-a0d0-ebcd78c6146a",
        "colab": {
          "base_uri": "https://localhost:8080/",
          "height": 51
        }
      },
      "cell_type": "code",
      "source": [
        "#간단한 신경망 구현\n",
        "\n",
        "\n",
        "# input node 설계\n",
        "I = tf.placeholder(tf.float32, [2,4])\n",
        "i = [[1,2,3,4],[5,6,7,8]]\n",
        "\n",
        "# weight 설계\n",
        "W = tf.placeholder(tf.float32, [4,2])\n",
        "w = [[1,1],[2,2],[3,3],[4,4]]\n",
        "\n",
        "# matrix를 곱하기 위한 module ,\n",
        "# 따라서, 2 x 4 * 4 x 2 = 2 x 2  \n",
        "node = tf.matmul(I,W)\n",
        "\n",
        "sess = tf.Session()\n",
        "sess.run(tf.global_variables_initializer())\n",
        "\n",
        "print(sess.run(node, feed_dict = {I:i, W:w}))"
      ],
      "execution_count": 0,
      "outputs": [
        {
          "output_type": "stream",
          "text": [
            "[[30. 30.]\n",
            " [70. 70.]]\n"
          ],
          "name": "stdout"
        }
      ]
    },
    {
      "metadata": {
        "id": "nXlcfg-UhAHz",
        "colab_type": "code",
        "colab": {}
      },
      "cell_type": "code",
      "source": [
        ""
      ],
      "execution_count": 0,
      "outputs": []
    }
  ]
}