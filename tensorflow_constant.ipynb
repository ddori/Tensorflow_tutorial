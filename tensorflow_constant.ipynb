{
  "nbformat": 4,
  "nbformat_minor": 0,
  "metadata": {
    "colab": {
      "name": "tensorflow_constant.ipynb",
      "version": "0.3.2",
      "provenance": [],
      "include_colab_link": true
    },
    "kernelspec": {
      "name": "python3",
      "display_name": "Python 3"
    }
  },
  "cells": [
    {
      "cell_type": "markdown",
      "metadata": {
        "id": "view-in-github",
        "colab_type": "text"
      },
      "source": [
        "<a href=\"https://colab.research.google.com/github/ddori/Tensorflow_tutorial/blob/master/tensorflow_constant.ipynb\" target=\"_parent\"><img src=\"https://colab.research.google.com/assets/colab-badge.svg\" alt=\"Open In Colab\"/></a>"
      ]
    },
    {
      "metadata": {
        "id": "3UvgmKH6Hn0V",
        "colab_type": "code",
        "colab": {}
      },
      "cell_type": "code",
      "source": [
        "import tensorflow as tf"
      ],
      "execution_count": 0,
      "outputs": []
    },
    {
      "metadata": {
        "id": "nd9FhZe4HtBB",
        "colab_type": "code",
        "outputId": "e3e8a456-0eb1-4207-82c1-90b7805d089d",
        "colab": {
          "base_uri": "https://localhost:8080/",
          "height": 34
        }
      },
      "cell_type": "code",
      "source": [
        "points = [[1,2,3],[4,5,6]]\n",
        "print(points)"
      ],
      "execution_count": 0,
      "outputs": [
        {
          "output_type": "stream",
          "text": [
            "[[1, 2, 3], [4, 5, 6]]\n"
          ],
          "name": "stdout"
        }
      ]
    },
    {
      "metadata": {
        "id": "9yfJpgCnHzFS",
        "colab_type": "code",
        "outputId": "e0b50a9a-dd2a-4225-dd74-c4b1aa24196c",
        "colab": {
          "base_uri": "https://localhost:8080/",
          "height": 68
        }
      },
      "cell_type": "code",
      "source": [
        "vectors = tf.constant(points)\n",
        "print(vectors)\n",
        "\n",
        "#shape를 확인 하는 방법은 두가지가 있습니다.\n",
        "print(vectors.get_shape())\n",
        "print(vectors.shape)"
      ],
      "execution_count": 0,
      "outputs": [
        {
          "output_type": "stream",
          "text": [
            "Tensor(\"Const_6:0\", shape=(2, 3), dtype=int32)\n",
            "(2, 3)\n",
            "(2, 3)\n"
          ],
          "name": "stdout"
        }
      ]
    },
    {
      "metadata": {
        "id": "4qWMgAT1H6YL",
        "colab_type": "code",
        "outputId": "34464402-e7b2-4bef-ddb1-97dcb0c15ca7",
        "colab": {
          "base_uri": "https://localhost:8080/",
          "height": 68
        }
      },
      "cell_type": "code",
      "source": [
        "#2D tensor를 3D로 확장\n",
        "#tf.expand_dims의 2번째 파라미터는 차원을 추가할 인덱스를 적는 란, 0을 넣어보겠습니다.\n",
        "#뒤에 있는 tf.Session.run 과 t.eval은 같은 의미.\n",
        "\n",
        "expanded_vectors = tf.expand_dims(vectors,0).eval(session=sess)\n",
        "print(expanded_vectors)\n",
        "\n",
        "#shape를 확인 하는 방법은 두가지가 있습니다.\n",
        "#print(expanded_vectors.get_shape())\n",
        "print(expanded_vectors.shape)"
      ],
      "execution_count": 0,
      "outputs": [
        {
          "output_type": "stream",
          "text": [
            "[[[1 2 3]\n",
            "  [4 5 6]]]\n",
            "(1, 2, 3)\n"
          ],
          "name": "stdout"
        }
      ]
    },
    {
      "metadata": {
        "id": "D-X6Z7-rKWga",
        "colab_type": "code",
        "outputId": "f7d82135-f2f0-4c65-b5c8-64cb3ec33451",
        "colab": {
          "base_uri": "https://localhost:8080/",
          "height": 85
        }
      },
      "cell_type": "code",
      "source": [
        "#2D tensor를 3D로 확장\n",
        "#tf.expand_dims의 2번째 파라미터는 차원을 추가할 인덱스를 적는 란, 1을 넣어보겠습니다\n",
        "#뒤에 있는 tf.Session.run 과 t.eval은 같은 의미.\n",
        "expanded_vectors = tf.expand_dims(vectors,1).eval(session=sess)\n",
        "print(expanded_vectors)\n",
        "\n",
        "#shape를 확인 하는 방법은 두가지가 있습니다.\n",
        "#print(expanded_vectors.get_shape())\n",
        "print(expanded_vectors.shape)"
      ],
      "execution_count": 0,
      "outputs": [
        {
          "output_type": "stream",
          "text": [
            "[[[1 2 3]]\n",
            "\n",
            " [[4 5 6]]]\n",
            "(2, 1, 3)\n"
          ],
          "name": "stdout"
        }
      ]
    },
    {
      "metadata": {
        "id": "G6JPvXbbR0UM",
        "colab_type": "text"
      },
      "cell_type": "markdown",
      "source": [
        "상수 여러가지 방법으로 생성"
      ]
    },
    {
      "metadata": {
        "id": "Lq3M9VwgR5zt",
        "colab_type": "code",
        "outputId": "28240bd6-873c-4d25-b4e8-a70b62bfed8e",
        "colab": {
          "base_uri": "https://localhost:8080/",
          "height": 34
        }
      },
      "cell_type": "code",
      "source": [
        "#첫번째 파라미터로 들어간 형식을 그대로 따라하는데, value가 0으로 바뀜 \n",
        "#밑은 1x3 tensor가 만들어짐\n",
        "zeros = tf.zeros_like([4,3,3], dtype=tf.int32, name='zeros')\n",
        "print(sess.run(zeros))"
      ],
      "execution_count": 0,
      "outputs": [
        {
          "output_type": "stream",
          "text": [
            "[0 0 0]\n"
          ],
          "name": "stdout"
        }
      ]
    },
    {
      "metadata": {
        "id": "_y7JtwzwSJGn",
        "colab_type": "code",
        "outputId": "a040f1f6-503e-4451-99ca-587b7643f0df",
        "colab": {
          "base_uri": "https://localhost:8080/",
          "height": 255
        }
      },
      "cell_type": "code",
      "source": [
        "#제일 많이 쓰이는 방법 3x4x5 tensor가 만들어짐\n",
        "zeros2 = tf.zeros([3,4,5], dtype =tf.int32, name = 'zeros2')\n",
        "print(sess.run(zeros2))"
      ],
      "execution_count": 0,
      "outputs": [
        {
          "output_type": "stream",
          "text": [
            "[[[0 0 0 0 0]\n",
            "  [0 0 0 0 0]\n",
            "  [0 0 0 0 0]\n",
            "  [0 0 0 0 0]]\n",
            "\n",
            " [[0 0 0 0 0]\n",
            "  [0 0 0 0 0]\n",
            "  [0 0 0 0 0]\n",
            "  [0 0 0 0 0]]\n",
            "\n",
            " [[0 0 0 0 0]\n",
            "  [0 0 0 0 0]\n",
            "  [0 0 0 0 0]\n",
            "  [0 0 0 0 0]]]\n"
          ],
          "name": "stdout"
        }
      ]
    },
    {
      "metadata": {
        "id": "KQ7Uq2RFSTrD",
        "colab_type": "code",
        "outputId": "6e1f5dd5-3c57-4cad-b44a-61ef87f00f01",
        "colab": {
          "base_uri": "https://localhost:8080/",
          "height": 102
        }
      },
      "cell_type": "code",
      "source": [
        "#zeros와 비슷, 하지만 1로 초기화 하는 방식\n",
        "ones = tf.ones([2,2,3], dtype = tf.float32, name = 'ones1')\n",
        "print(sess.run(ones))"
      ],
      "execution_count": 0,
      "outputs": [
        {
          "output_type": "stream",
          "text": [
            "[[[1. 1. 1.]\n",
            "  [1. 1. 1.]]\n",
            "\n",
            " [[1. 1. 1.]\n",
            "  [1. 1. 1.]]]\n"
          ],
          "name": "stdout"
        }
      ]
    },
    {
      "metadata": {
        "id": "DCCaKiAaSnBF",
        "colab_type": "code",
        "outputId": "afa7e874-a223-4823-bd2c-f8d2a2b91ec1",
        "colab": {
          "base_uri": "https://localhost:8080/",
          "height": 51
        }
      },
      "cell_type": "code",
      "source": [
        "#2x3 tensor를 만들지만, 두번째 파라미터 값으로 채워 넣음. \n",
        "fill = tf.fill([2,3] , 9)\n",
        "print(sess.run(fill))"
      ],
      "execution_count": 0,
      "outputs": [
        {
          "output_type": "stream",
          "text": [
            "[[9 9 9]\n",
            " [9 9 9]]\n"
          ],
          "name": "stdout"
        }
      ]
    },
    {
      "metadata": {
        "id": "L0wjWCfMS1Xr",
        "colab_type": "code",
        "outputId": "8a5d0523-788a-4e19-f2ac-cc813312beab",
        "colab": {
          "base_uri": "https://localhost:8080/",
          "height": 34
        }
      },
      "cell_type": "code",
      "source": [
        "#zeros_like와 매우 흡사, 하지만 constant로 설정하면 value도 함께 생성\n",
        "contant = tf.constant([2,3,4])\n",
        "print(sess.run(contant))"
      ],
      "execution_count": 0,
      "outputs": [
        {
          "output_type": "stream",
          "text": [
            "[2 3 4]\n"
          ],
          "name": "stdout"
        }
      ]
    },
    {
      "metadata": {
        "id": "oxW7pNlHS3p_",
        "colab_type": "code",
        "outputId": "cbb5fe59-fe8e-4275-dabe-98b8fc494893",
        "colab": {
          "base_uri": "https://localhost:8080/",
          "height": 51
        }
      },
      "cell_type": "code",
      "source": [
        "#tf.fill([2,3],-1.0)과 같다.\n",
        "tensor = tf.constant(-1.0, shape=[2, 3])\n",
        "print(sess.run(tensor))"
      ],
      "execution_count": 0,
      "outputs": [
        {
          "output_type": "stream",
          "text": [
            "[[-1. -1. -1.]\n",
            " [-1. -1. -1.]]\n"
          ],
          "name": "stdout"
        }
      ]
    },
    {
      "metadata": {
        "id": "lcPu4RT2UfHY",
        "colab_type": "text"
      },
      "cell_type": "markdown",
      "source": [
        "난수 상수 생성"
      ]
    },
    {
      "metadata": {
        "id": "KEOF63nwTAoq",
        "colab_type": "code",
        "outputId": "f5efa258-1c37-482c-dcfc-6489480ffe86",
        "colab": {
          "base_uri": "https://localhost:8080/",
          "height": 51
        }
      },
      "cell_type": "code",
      "source": [
        "#정규분포\n",
        "#mean은 평균이고, stddev 는 표준편차(Standard Deviation)\n",
        "norm = tf.random_normal([2,3], mean = -1, stddev = 4)\n",
        "print(sess.run(norm))"
      ],
      "execution_count": 0,
      "outputs": [
        {
          "output_type": "stream",
          "text": [
            "[[-1.3577713 -9.036874  -6.167119 ]\n",
            " [-1.5161736  0.3975426  2.2483747]]\n"
          ],
          "name": "stdout"
        }
      ]
    },
    {
      "metadata": {
        "id": "ujcajvTmUoMc",
        "colab_type": "code",
        "outputId": "a3d9e275-37c5-43d7-c6de-2b7021bb5eaf",
        "colab": {
          "base_uri": "https://localhost:8080/",
          "height": 68
        }
      },
      "cell_type": "code",
      "source": [
        "#주어진 값을 shuffle\n",
        "#제일 바깥에 있는 차원을 기준으로 shuffle\n",
        "c = tf.constant([[1,2],[3,4],[5,6]])\n",
        "shuff = tf.random_shuffle(c)\n",
        "print(sess.run(shuff))"
      ],
      "execution_count": 0,
      "outputs": [
        {
          "output_type": "stream",
          "text": [
            "[[1 2]\n",
            " [5 6]\n",
            " [3 4]]\n"
          ],
          "name": "stdout"
        }
      ]
    },
    {
      "metadata": {
        "id": "r3bdkYveUvNh",
        "colab_type": "code",
        "outputId": "d328c932-73b7-47d5-9c10-bcd6acd6939e",
        "colab": {
          "base_uri": "https://localhost:8080/",
          "height": 51
        }
      },
      "cell_type": "code",
      "source": [
        "#균등분포 난수\n",
        "unif = tf.random_uniform([2,3], minval=0, maxval=3)\n",
        "print(sess.run(unif))"
      ],
      "execution_count": 0,
      "outputs": [
        {
          "output_type": "stream",
          "text": [
            "[[0.8728223  2.5516238  1.0395688 ]\n",
            " [1.6830196  0.00823796 2.4787753 ]]\n"
          ],
          "name": "stdout"
        }
      ]
    },
    {
      "metadata": {
        "id": "rGZUfCqCVnnH",
        "colab_type": "text"
      },
      "cell_type": "markdown",
      "source": [
        "시퀸스 상수 생성(그대로 연속적인 상수를 생성하는 방법)"
      ]
    },
    {
      "metadata": {
        "id": "TuHCcm9pVHlG",
        "colab_type": "code",
        "outputId": "8a05a45f-eff4-426a-c3eb-76d647c6abc1",
        "colab": {
          "base_uri": "https://localhost:8080/",
          "height": 34
        }
      },
      "cell_type": "code",
      "source": [
        "#첫번째 parameter 부터 2번째 parameter 까지, 세번째 parameter는 생성하는 갯수, 따라서 element의 간격은 (2_parameter - 1_parameter)/(3_parameter-1)\n",
        "lin = tf.linspace(10.0, 12.0, 5, name = 'linspace')\n",
        "print(sess.run(lin))"
      ],
      "execution_count": 0,
      "outputs": [
        {
          "output_type": "stream",
          "text": [
            "[10.  10.5 11.  11.5 12. ]\n"
          ],
          "name": "stdout"
        }
      ]
    },
    {
      "metadata": {
        "id": "D0xzptWcWpOr",
        "colab_type": "code",
        "outputId": "047a6b93-ee18-4bdf-cbfd-67f2f064836f",
        "colab": {
          "base_uri": "https://localhost:8080/",
          "height": 34
        }
      },
      "cell_type": "code",
      "source": [
        "#start부터 시작하여 limit 까지 delta의 증가량 만큼 확장하여 정수 리스트 생성( limit은 포함 x)\n",
        "ran = tf.range(start=3, limit=7, delta=2)\n",
        "print(sess.run(ran))"
      ],
      "execution_count": 0,
      "outputs": [
        {
          "output_type": "stream",
          "text": [
            "[3 5]\n"
          ],
          "name": "stdout"
        }
      ]
    },
    {
      "metadata": {
        "id": "53_5YV8GW_cL",
        "colab_type": "code",
        "outputId": "e000c595-2fbe-42f7-f1b7-da3b4428fc96",
        "colab": {
          "base_uri": "https://localhost:8080/",
          "height": 34
        }
      },
      "cell_type": "code",
      "source": [
        "#start의 default는 0\n",
        "ran2 = tf.range(8)\n",
        "print(sess.run(ran2))"
      ],
      "execution_count": 0,
      "outputs": [
        {
          "output_type": "stream",
          "text": [
            "[0 1 2 3 4 5 6 7]\n"
          ],
          "name": "stdout"
        }
      ]
    },
    {
      "metadata": {
        "id": "cyvAgfOBXt6n",
        "colab_type": "text"
      },
      "cell_type": "markdown",
      "source": [
        "난수 생성시 Seed의 활용"
      ]
    },
    {
      "metadata": {
        "id": "EUNsYdLXXJTg",
        "colab_type": "code",
        "outputId": "e5dd6c16-8e1f-4a55-8def-fe286db03afd",
        "colab": {
          "base_uri": "https://localhost:8080/",
          "height": 102
        }
      },
      "cell_type": "code",
      "source": [
        "#seed를 주고 random한 값을 생성하면 매 session마다 값이 같음\n",
        "\n",
        "#ramdom_uniform 과 ramdom_normal의 차이는\n",
        "#reference : https://www.tensorflow.org/api_docs/python/tf/random/normal\n",
        "'''\n",
        "#random_normal\n",
        "tf.random_normal(shape, mean=0.0, stddev=1.0, dtype=tf.float32, seed=None, name=None)\n",
        "Outputs random values from a normal distribution.\n",
        "\n",
        "#random_uniform\n",
        "tf.random_uniform(shape, minval=0, maxval=None, dtype=tf.float32, seed=None, name=None)\n",
        "Outputs random values from a uniform distribution.\n",
        "'''\n",
        "\n",
        "#random_normal은 평균과 표준편차를 기준으로 random value를 생성한다는 점\n",
        "#random_uniform은 최소값과 default 값인 최대값을 세팅하고 안에서 random value를 생성한다는 점이다.\n",
        "a = tf.random_uniform([1], seed=1)\n",
        "b = tf.random_normal([1])\n",
        "\n",
        "print('Session1')\n",
        "with tf.Session() as sess1:\n",
        "  print(sess1.run(a))\n",
        "  print(sess1.run(a))\n",
        "  print(sess1.run(b))\n",
        "  print(sess1.run(b))\n",
        "  "
      ],
      "execution_count": 0,
      "outputs": [
        {
          "output_type": "stream",
          "text": [
            "Session1\n",
            "[0.77498245]\n",
            "[0.39846957]\n",
            "[-0.08693722]\n",
            "[0.04120286]\n"
          ],
          "name": "stdout"
        }
      ]
    },
    {
      "metadata": {
        "id": "wHLdVya-YD-4",
        "colab_type": "code",
        "outputId": "39f53fa6-7170-400f-907a-711523bba851",
        "colab": {
          "base_uri": "https://localhost:8080/",
          "height": 102
        }
      },
      "cell_type": "code",
      "source": [
        "print('Session2')\n",
        "with tf.Session() as sess2:\n",
        "  print(sess2.run(a))\n",
        "  print(sess2.run(a))\n",
        "  print(sess2.run(b))\n",
        "  print(sess2.run(b))"
      ],
      "execution_count": 0,
      "outputs": [
        {
          "output_type": "stream",
          "text": [
            "Session2\n",
            "[0.2390374]\n",
            "[0.22267115]\n",
            "[0.2533507]\n",
            "[-1.360431]\n"
          ],
          "name": "stdout"
        }
      ]
    },
    {
      "metadata": {
        "id": "7ixt4nXfYU86",
        "colab_type": "code",
        "colab": {}
      },
      "cell_type": "code",
      "source": [
        "# tf.set_random_seed 통해 모든 random value generation function들이 매번 같은 값을 반환\n",
        "tf.set_random_seed(12)\n",
        "a = tf.random_uniform([1])\n",
        "b = tf.random_normal([1])"
      ],
      "execution_count": 0,
      "outputs": []
    },
    {
      "metadata": {
        "id": "TjuGY-4nY_lS",
        "colab_type": "code",
        "outputId": "0b776f6d-dd57-4c06-bb47-4deeb2580427",
        "colab": {
          "base_uri": "https://localhost:8080/",
          "height": 187
        }
      },
      "cell_type": "code",
      "source": [
        "print(\"Session 1\")\n",
        "with tf.Session() as sess1:\n",
        "  print(sess1.run(a))  \n",
        "  print(sess1.run(a))  \n",
        "  print(sess1.run(b))  \n",
        "  print(sess1.run(b))  \n",
        "\n",
        "print(\"Session 2\")\n",
        "with tf.Session() as sess2:\n",
        "  print(sess2.run(a))  \n",
        "  print(sess2.run(a))  \n",
        "  print(sess2.run(b)) \n",
        "  print(sess2.run(b)) \n"
      ],
      "execution_count": 0,
      "outputs": [
        {
          "output_type": "stream",
          "text": [
            "Session 1\n",
            "[0.34005928]\n",
            "[0.9032984]\n",
            "[-0.32772705]\n",
            "[-0.61718315]\n",
            "Session 2\n",
            "[0.34005928]\n",
            "[0.9032984]\n",
            "[-0.32772705]\n",
            "[-0.61718315]\n"
          ],
          "name": "stdout"
        }
      ]
    },
    {
      "metadata": {
        "id": "yd8ppll7ZEt4",
        "colab_type": "code",
        "colab": {}
      },
      "cell_type": "code",
      "source": [
        ""
      ],
      "execution_count": 0,
      "outputs": []
    }
  ]
}